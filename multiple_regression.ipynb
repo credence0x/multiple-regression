{
  "nbformat": 4,
  "nbformat_minor": 0,
  "metadata": {
    "colab": {
      "name": "multiple_regression.ipynb",
      "provenance": []
    },
    "kernelspec": {
      "name": "python3",
      "display_name": "Python 3"
    },
    "language_info": {
      "name": "python"
    }
  },
  "cells": [
    {
      "cell_type": "code",
      "metadata": {
        "id": "JKZ_L5HSS7wK"
      },
      "source": [
        "################################## REPORT: QUIZ ENDED BEFORE TIME ALLOCATED #############################################\n",
        "# I'd like to report that my quiz ended before the time allocated and I have sent proof to hello@hamoye.com             #\n",
        "# from my email lojetokun@gmail.com                                                                                     #\n",
        "# I sincerely hope this can be rectified as I believe that all the answers here are correct and I finished before time  #\n",
        "#########################################################################################################################"
      ],
      "execution_count": 1,
      "outputs": []
    },
    {
      "cell_type": "code",
      "metadata": {
        "id": "Ck1suTihAuoI"
      },
      "source": [
        "import pandas as pd\n",
        "import numpy as np\n",
        "import seaborn as sns\n",
        "from sklearn.metrics import r2_score\n",
        "from sklearn.preprocessing import MinMaxScaler\n",
        "from sklearn.model_selection import train_test_split\n",
        "from sklearn.metrics import mean_absolute_error\n",
        "from sklearn.metrics import mean_squared_error\n",
        "from sklearn.linear_model import LinearRegression"
      ],
      "execution_count": 2,
      "outputs": []
    },
    {
      "cell_type": "code",
      "metadata": {
        "id": "srtk9ot-AlYI"
      },
      "source": [
        "url = \"https://archive.ics.uci.edu/ml/machine-learning-databases/00374/energydata_complete.csv\"\n",
        "df = pd.read_csv(url)\n",
        "df_2 = df.drop(columns=['lights', 'date'])\n"
      ],
      "execution_count": 3,
      "outputs": []
    },
    {
      "cell_type": "code",
      "metadata": {
        "colab": {
          "base_uri": "https://localhost:8080/"
        },
        "id": "Ii-c8KpiH1U6",
        "outputId": "21301c2b-c60b-4e79-fce9-9abdd15d309d"
      },
      "source": [
        "# From the dataset, fit a linear model on the relationship between the temperature in the living room in Celsius (x = T2) \n",
        "# and the temperature outside the building (y = T6). What is the R^2 value in two D.P?\n",
        "feature_1 = df[['T2']]\n",
        "target_1 = df[['T6']]\n",
        "x_train, x_test, y_train, y_test = train_test_split(feature_1, target_1,test_size=0.3, random_state=42)\n",
        "linear_model = LinearRegression()\n",
        "linear_model.fit(x_train, y_train)\n",
        "predicted_values = linear_model.predict(x_test)\n",
        "the_r2_score = r2_score(y_test, predicted_values)\n",
        "print(round(the_r2_score, 2))\n"
      ],
      "execution_count": 4,
      "outputs": [
        {
          "output_type": "stream",
          "name": "stdout",
          "text": [
            "0.64\n"
          ]
        }
      ]
    },
    {
      "cell_type": "code",
      "metadata": {
        "colab": {
          "base_uri": "https://localhost:8080/"
        },
        "id": "QNhAQqijIPUo",
        "outputId": "e0cba5d8-0347-46a7-d053-984e9931d9cb"
      },
      "source": [
        "scaler = MinMaxScaler()\n",
        "normalised_df_2 = pd.DataFrame(scaler.fit_transform(df_2), columns=df_2.columns)\n",
        "target_2 = normalised_df_2[['Appliances']]\n",
        "features_2= normalised_df_2.drop(columns=['Appliances'])\n",
        "\n",
        "x_train_2, x_test_2, y_train_2, y_test_2 = train_test_split(features_2, target_2,test_size=0.3, random_state=42)\n",
        "linear_model_2 = LinearRegression()\n",
        "linear_model_2.fit(x_train_2, y_train_2)\n",
        "predicted_values_2 = linear_model_2.predict(x_test_2)\n",
        "\n",
        "\n",
        "the_r2_score_2 = r2_score(y_test_2, predicted_values_2)\n",
        "print('Coefficient of determinant is ',round(the_r2_score_2, 2))\n",
        "\n",
        "mae_2 = mean_absolute_error(y_test_2, predicted_values_2)\n",
        "print(\"Mean Absolute Error is \", round(mae_2, 2))\n",
        "\n",
        "rss_2 = np.sum(np.square(y_test_2 - predicted_values_2))\n",
        "print(\"Residual Sum of Squares is \",round(rss_2, 2) )\n",
        "\n",
        "rmse_2 = np.sqrt(mean_squared_error(y_test_2, predicted_values_2))\n",
        "print(\"Root Mean Square Error is \",round(rmse_2, 3))\n"
      ],
      "execution_count": 5,
      "outputs": [
        {
          "output_type": "stream",
          "name": "stdout",
          "text": [
            "Coefficient of determinant is  0.15\n",
            "Mean Absolute Error is  0.05\n",
            "Residual Sum of Squares is  Appliances    45.35\n",
            "dtype: float64\n",
            "Root Mean Square Error is  0.088\n"
          ]
        }
      ]
    },
    {
      "cell_type": "code",
      "metadata": {
        "colab": {
          "base_uri": "https://localhost:8080/"
        },
        "id": "Q_PgTD90NN9F",
        "outputId": "e718ed9e-0cbe-4d0d-834e-ec5c7a2ea32d"
      },
      "source": [
        "maximum = max(linear_model_2.coef_[0])\n",
        "minimum = min(linear_model_2.coef_[0])\n",
        "min_index = list(linear_model_2.coef_[0]).index(minimum)\n",
        "max_index = list(linear_model_2.coef_[0]).index(maximum)\n",
        "print(\"Maximum is :\",features_2.columns[max_index])\n",
        "print(\"Minimum is :\",features_2.columns[min_index])"
      ],
      "execution_count": 6,
      "outputs": [
        {
          "output_type": "stream",
          "name": "stdout",
          "text": [
            "Maximum is : RH_1\n",
            "Minimum is : RH_2\n"
          ]
        }
      ]
    },
    {
      "cell_type": "code",
      "metadata": {
        "colab": {
          "base_uri": "https://localhost:8080/"
        },
        "id": "U9Jxb8YgRuOp",
        "outputId": "f1c897ed-7061-409b-e4f4-6efa2e61e756"
      },
      "source": [
        "from sklearn.linear_model import Ridge\n",
        "from sklearn.linear_model import Lasso\n",
        "\n",
        "ridge_reg = Ridge(alpha=0.4)\n",
        "ridge_reg.fit(x_train_2, y_train_2)\n",
        "ridge_predicted_values = ridge_reg.predict(x_test_2)\n",
        "ridge_rmse = np.sqrt(mean_squared_error(y_test_2, ridge_predicted_values))\n",
        "print(ridge_rmse)"
      ],
      "execution_count": 7,
      "outputs": [
        {
          "output_type": "stream",
          "name": "stdout",
          "text": [
            "0.08753385704628003\n"
          ]
        }
      ]
    },
    {
      "cell_type": "code",
      "metadata": {
        "colab": {
          "base_uri": "https://localhost:8080/"
        },
        "id": "7WJF5hA-Syed",
        "outputId": "a10f08e0-12ea-4ac4-df77-e960c9b2ae24"
      },
      "source": [
        "# Train a lasso regression model with an alpha value of 0.001 \n",
        "# and obtain the new feature weights with it. How many of the features have non-zero feature weights?\n",
        "lasso_reg = Lasso(alpha=0.001)\n",
        "lasso_reg.fit(x_train_2, y_train_2)\n",
        "count=0\n",
        "for each in lasso_reg.coef_:\n",
        "  if each != 0:\n",
        "    count +=1\n",
        "print(count)\n",
        "# (lasso_reg.coef_ != 0)"
      ],
      "execution_count": 8,
      "outputs": [
        {
          "output_type": "stream",
          "name": "stdout",
          "text": [
            "4\n"
          ]
        }
      ]
    },
    {
      "cell_type": "code",
      "metadata": {
        "colab": {
          "base_uri": "https://localhost:8080/"
        },
        "id": "MKB6LgDnT7aU",
        "outputId": "26118d15-7b06-4b1b-d3a2-8417a9dfd25a"
      },
      "source": [
        "# What is the new RMSE with the Lasso Regression (in 3 decimal places)?\n",
        "lasso_predicted_values = lasso_reg.predict(x_test_2)\n",
        "lasso_rmse = np.sqrt(mean_squared_error(y_test_2, lasso_predicted_values))\n",
        "print(lasso_rmse)"
      ],
      "execution_count": 9,
      "outputs": [
        {
          "output_type": "stream",
          "name": "stdout",
          "text": [
            "0.09358170467245137\n"
          ]
        }
      ]
    }
  ]
}